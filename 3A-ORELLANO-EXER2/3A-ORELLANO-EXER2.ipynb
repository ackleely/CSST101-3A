{
  "nbformat": 4,
  "nbformat_minor": 0,
  "metadata": {
    "colab": {
      "provenance": []
    },
    "kernelspec": {
      "name": "python3",
      "display_name": "Python 3"
    },
    "language_info": {
      "name": "python"
    }
  },
  "cells": [
    {
      "cell_type": "markdown",
      "source": [
        "# **Exercise 1: Introduction to Probability Theory in AI**"
      ],
      "metadata": {
        "id": "e9Euv0E4C2eL"
      }
    },
    {
      "cell_type": "markdown",
      "source": [
        "**Assessment Task 1: Basic Probability Calculations**\n",
        "\n",
        "1. Start with a Coding Task:\n",
        "    - Write Python functions to compute joint probability, marginal probability, and\n",
        "    conditional probability.\n",
        "2. Interactive Question:\n",
        "    - Question: If the probability of event A is 0.3 and the probability of event B is 0.4,\n",
        "    what is the joint probability of A and B assuming they are independent?\n",
        "    - Answer using Code: Implement the function joint_probability(p_A, p_B) to compute\n",
        "    the result and submit it to see if your code is correct.\n",
        "3. Feedback:\n",
        "    - If correct, you'll receive immediate feedback that explains the formula you used.\n",
        "    - If incorrect, hints will be provided to guide you toward the correct implementation"
      ],
      "metadata": {
        "id": "scjKFFP0GYIU"
      }
    },
    {
      "cell_type": "code",
      "execution_count": 34,
      "metadata": {
        "colab": {
          "base_uri": "https://localhost:8080/"
        },
        "id": "E9v-rVvRCxAk",
        "outputId": "89cb7d22-3cc6-4c42-a7e9-496fbe81b2d3"
      },
      "outputs": [
        {
          "output_type": "stream",
          "name": "stdout",
          "text": [
            "Joint probability: 0.12\n"
          ]
        }
      ],
      "source": [
        "def joint_probability(p_A, p_B):\n",
        "    return p_A * p_B\n",
        "\n",
        "def marginal_probability(p_A, p_B):\n",
        "    return p_A + p_B\n",
        "\n",
        "def conditional_probability(p_A_given_B, p_B):\n",
        "    return p_A_given_B / p_B\n",
        "\n",
        "p_A = 0.3\n",
        "p_B = 0.4\n",
        "p_A_given_B = 0.7\n",
        "\n",
        "print(f\"Joint probability: {joint_probability(p_A, p_B)}\")"
      ]
    },
    {
      "cell_type": "markdown",
      "source": [
        "\n",
        "\n",
        "**The Feedback:** joint probability of A and B is: 0.12"
      ],
      "metadata": {
        "id": "u_im3bilDwi7"
      }
    },
    {
      "cell_type": "markdown",
      "source": [
        "# **Exercise 2: Decision-Making Under Uncertainty**"
      ],
      "metadata": {
        "id": "H-aXL2t8EEQn"
      }
    },
    {
      "cell_type": "markdown",
      "source": [
        "Assessment Task 2: Decision-Making Under Uncertainty\n",
        "\n",
        "1. Interactive Decision Simulation:\n",
        "    - You are tasked with simulating a decision-making process using Python. In\n",
        "    this simulation, an AI system must choose between two investment options\n",
        "    with uncertain outcomes (profit or loss).\n",
        "2. Interactive Task:\n",
        "    - Task: Implement a function that simulates the decision-making process for\n",
        "    1000 iterations. The probability of success is 70%, and the reward for\n",
        "    success is $1000, while the penalty for failure is -$500.\n",
        "    - Interactive Input: Adjust the probability of success or failure and simulate\n",
        "    different outcomes.\n",
        "3. Question: What is the average return after 1000 iterations? How does changing the\n",
        "probability affect the result.\n",
        "4. Submit and Feedback:\n",
        "    - Run your simulation and submit the results.\n",
        "    - Feedback will include an explanation of how probability distributions affect\n",
        "    decision-making under uncertainty"
      ],
      "metadata": {
        "id": "238eoK4JH5-l"
      }
    },
    {
      "cell_type": "code",
      "source": [
        "import numpy as np"
      ],
      "metadata": {
        "id": "dsQhmJG-EMOO"
      },
      "execution_count": 35,
      "outputs": []
    },
    {
      "cell_type": "code",
      "source": [
        "import random\n",
        "\n",
        "def simulate_decision(num_simulations, p_success, reward_success, reward_failure):\n",
        "    outcomes = []\n",
        "    for _ in range(num_simulations):\n",
        "        if random.random() < p_success:\n",
        "            outcomes.append(reward_success)\n",
        "        else:\n",
        "            outcomes.append(reward_failure)\n",
        "    return sum(outcomes) / num_simulations\n",
        "\n",
        "p_success = 0.7\n",
        "reward_success = 1000\n",
        "reward_failure = -500\n",
        "\n",
        "average_outcome = simulate_decision(1000, p_success, reward_success, reward_failure)\n",
        "print(f\"Average outcome: ${average_outcome:.2f}\")\n"
      ],
      "metadata": {
        "id": "ecp2TLCUEKB1",
        "colab": {
          "base_uri": "https://localhost:8080/"
        },
        "outputId": "aed217ca-0e12-4203-f15e-867fbd4b8e93"
      },
      "execution_count": 36,
      "outputs": [
        {
          "output_type": "stream",
          "name": "stdout",
          "text": [
            "Average outcome: $587.50\n"
          ]
        }
      ]
    },
    {
      "cell_type": "markdown",
      "source": [
        "### Impact of Changing Probability:\n",
        "\n",
        "- **Increasing `p_success`**: If the probability of success increases, the average outcome will increase, as more iterations will result in the $1000 reward.\n",
        "\n",
        "- **Decreasing `p_success`**: Conversely, if the probability of success decreases, the average outcome will decrease, as more iterations will result in the -$500 penalty."
      ],
      "metadata": {
        "id": "Ixg_d_AHIJ8f"
      }
    },
    {
      "cell_type": "markdown",
      "source": [
        "# **Exercise 3: Applying Probability Theory in AI for Diagnosis**"
      ],
      "metadata": {
        "id": "-_zCb_U0MSAK"
      }
    },
    {
      "cell_type": "markdown",
      "source": [
        "Assessment Task 3: Bayesian Inference\n",
        "1. Interactive Bayesian Model:\n",
        "    - Implement a Python function that performs Bayesian inference to update the\n",
        "    probability of a hypothesis based on new evidence.\n",
        "    - For this task, you'll be asked to compute the probability of having a disease\n",
        "    given a positive test result.\n",
        "2. Interactive Scenario:\n",
        "    - Scenario: A test for a disease has a 90% accuracy for positive results, and 5%\n",
        "    of people without the disease test positive. If 1% of the population has the\n",
        "    disease, what is the probability that someone who tested positive actually has\n",
        "    the disease?\n",
        "3. Submit Your Answer:\n",
        "    - Use your Bayesian inference function to compute the result and submit it.\n",
        "    - Interactive Feedback: After submitting, you'll receive feedback explaining\n",
        "    Bayes' Theorem and the role of prior probability, likelihood, and evidence."
      ],
      "metadata": {
        "id": "F3nJ9pLLKIKM"
      }
    },
    {
      "cell_type": "code",
      "source": [
        "def baysesian_inference(prior, likelihood_positive_given_disease, likelihood_positive):\n",
        "    posterior = (prior * likelihood_positive_given_disease) / likelihood_positive\n",
        "    return posterior\n",
        "\n",
        "prior_disease = 0.01\n",
        "likelihood_positive_given_disease = 0.90\n",
        "likelihood_positive_given_no_disease = 0.05\n",
        "\n",
        "likelihood_positive = (likelihood_positive_given_disease * prior_disease) + \\\n",
        "                      (likelihood_positive_given_no_disease * (1 - prior_disease))\n",
        "\n",
        "posterior_disease = baysesian_inference(prior_disease, likelihood_positive_given_disease, likelihood_positive)\n",
        "print(f\"Posterior probability of disease given a positive test: {posterior_disease:.4f}\")\n"
      ],
      "metadata": {
        "colab": {
          "base_uri": "https://localhost:8080/"
        },
        "id": "SLaqxKIdFIVB",
        "outputId": "f19cfb35-fd6f-4627-a399-fc9f52346d6e"
      },
      "execution_count": 37,
      "outputs": [
        {
          "output_type": "stream",
          "name": "stdout",
          "text": [
            "Posterior probability of disease given a positive test: 0.1538\n"
          ]
        }
      ]
    },
    {
      "cell_type": "markdown",
      "source": [
        "The overall likelihood of a positive test (likelihood_positive) is calculated by considering both true positives and false positives. Finally, the baysesian_inference function computes the posterior probability of having the disease given a positive test result."
      ],
      "metadata": {
        "id": "190VrROGL80M"
      }
    },
    {
      "cell_type": "markdown",
      "source": [
        "# **Exercise 4: Probability Distribution in AI**\n"
      ],
      "metadata": {
        "id": "Vvg8YLpiG766"
      }
    },
    {
      "cell_type": "markdown",
      "source": [
        "Assessment Task 4: Probability Distributions Visualization\n",
        "\n",
        "1. Interactive Visualization Task:\n",
        "    - Write Python code to generate and visualize binomial and normal probability\n",
        "    distributions.\n",
        "2. Interactive Question:\n",
        "    - Task: Simulate 1000 coin flips using a binomial distribution and visualize the\n",
        "    outcomes.\n",
        "    - Follow-Up: How does increasing the number of trials or changing the\n",
        "    probability of heads affect the distribution?"
      ],
      "metadata": {
        "id": "A1RLRtELSKvj"
      }
    },
    {
      "cell_type": "code",
      "source": [
        "import numpy as np\n",
        "import matplotlib.pyplot as plt\n"
      ],
      "metadata": {
        "id": "_WiiZenYHBeX"
      },
      "execution_count": 24,
      "outputs": []
    },
    {
      "cell_type": "code",
      "source": [
        "n_trials = 1000\n",
        "p_head = 0.5\n",
        "mu, sigma = 0, 1\n",
        "\n",
        "binomial_distribution = np.random.binomial(n=1, p=p_head, size=n_trials)\n",
        "normal_distribution = np.random.normal(mu, sigma, n_trials)\n",
        "\n"
      ],
      "metadata": {
        "id": "pvV7zHsgHkdI"
      },
      "execution_count": 27,
      "outputs": []
    },
    {
      "cell_type": "markdown",
      "source": [
        "3. Interactive Graph:"
      ],
      "metadata": {
        "id": "rZENaIlnSgRU"
      }
    },
    {
      "cell_type": "code",
      "source": [
        "fig, axs = plt.subplots(1, 2, figsize=(12, 6))\n",
        "\n",
        "axs[0].hist(binomial_distribution, bins=2, edgecolor='black')\n",
        "axs[0].set_title(\"Binomial Distribution (Coin Flips)\")\n",
        "axs[0].set_xlabel(\"Outcome\")\n",
        "axs[0].set_ylabel(\"Frequency\")\n",
        "\n",
        "axs[1].hist(normal_distribution, bins=30, edgecolor='black')\n",
        "axs[1].set_title(\"Normal Distribution\")\n",
        "axs[1].set_xlabel(\"Value\")\n",
        "axs[1].set_ylabel(\"Frequency\")\n",
        "\n",
        "plt.tight_layout()\n",
        "plt.show()\n"
      ],
      "metadata": {
        "colab": {
          "base_uri": "https://localhost:8080/",
          "height": 607
        },
        "id": "-_6DfIxiSgrT",
        "outputId": "80a4ad61-557d-46ae-f793-24f819714ad5"
      },
      "execution_count": 28,
      "outputs": [
        {
          "output_type": "display_data",
          "data": {
            "text/plain": [
              "<Figure size 1200x600 with 2 Axes>"
            ],
            "image/png": "[encoded data removed]"
          },
          "metadata": {}
        }
      ]
    },
    {
      "cell_type": "markdown",
      "source": [
        "- Feedback: Receive instant feedback on your graph, explaining how different\n",
        "distribution parameters affect the outcome."
      ],
      "metadata": {
        "id": "eAW5LW_3Su2l"
      }
    },
    {
      "cell_type": "markdown",
      "source": [
        "### Explanation:\n",
        "\n",
        "1. **Binomial Distribution**: Simulates 1000 coin flips with a probability of heads (**`p_head`**).\n",
        "2. **Normal Distribution**: Generates a normal distribution with mean (**`mu`**) and standard deviation (**`sigma`**).\n",
        "3. **Interactive Elements**: The **`update_plots`** function allows you to adjust the number of trials and the probability of heads, and see how the distributions change."
      ],
      "metadata": {
        "id": "6p9RjILKSCNq"
      }
    },
    {
      "cell_type": "markdown",
      "source": [
        "# **Exercise 5: Real-World Application of Probability in AI**"
      ],
      "metadata": {
        "id": "TkcFpbRhIThU"
      }
    },
    {
      "cell_type": "markdown",
      "source": [
        "Assessment Task 5: Real-World Scenario\n",
        "\n",
        "1. Interactive Real-World Problem:\n",
        "    - You are asked to model a real-world scenario in AI, such as predicting\n",
        "    whether it will rain based on factors like humidity and cloud cover. Use\n",
        "    conditional probabilities to model this scenario.\n",
        "2. Scenario Simulation:\n",
        "    - Task: Implement a Python script that uses conditional probability to predict\n",
        "    the likelihood of rain given evidence (humidity and cloud cover).\n",
        "    - Interactive Scenario: You can change the input conditions (e.g., increase\n",
        "    humidity or cloud cover) to see how the probability of rain changes in realtime."
      ],
      "metadata": {
        "id": "T0OZTRmcM_i4"
      }
    },
    {
      "cell_type": "code",
      "source": [
        "import numpy as np\n",
        "import matplotlib.pyplot as plt\n",
        "\n",
        "P_rain = 0.3\n",
        "P_humidity_given_rain = 0.8\n",
        "P_humidity_given_no_rain = 0.4\n",
        "P_cloud_cover_given_rain = 0.9\n",
        "P_cloud_cover_given_no_rain = 0.2\n",
        "\n",
        "def bayes_theorem(P_A, P_B_given_A, P_B):\n",
        "    return (P_B_given_A * P_A) / P_B\n",
        "\n",
        "def calculate_probability_of_rain(humidity, cloud_cover):\n",
        "    P_no_rain = 1 - P_rain\n",
        "    P_humidity = P_humidity_given_rain * P_rain + P_humidity_given_no_rain * P_no_rain\n",
        "    P_cloud_cover = P_cloud_cover_given_rain * P_rain + P_cloud_cover_given_no_rain * P_no_rain\n",
        "\n",
        "    P_rain_given_humidity = bayes_theorem(P_rain, P_humidity_given_rain, P_humidity)\n",
        "    P_rain_given_cloud_cover = bayes_theorem(P_rain, P_cloud_cover_given_rain, P_cloud_cover)\n",
        "\n",
        "\n",
        "    P_rain_given_evidence = P_rain_given_humidity * P_rain_given_cloud_cover / P_rain\n",
        "    return P_rain_given_evidence\n",
        "\n"
      ],
      "metadata": {
        "id": "0xdYyvcPM_-9"
      },
      "execution_count": 32,
      "outputs": []
    },
    {
      "cell_type": "markdown",
      "source": [
        "### 3. Submit and Feedback\n",
        "\n",
        "After running the script, you can input different values for humidity and cloud cover to see how the probability of rain changes in real-time. The dynamically updated plot will help visualize the impact of these factors on the prediction."
      ],
      "metadata": {
        "id": "4kbidwR_UikK"
      }
    },
    {
      "cell_type": "code",
      "source": [
        "\n",
        "humidity = float(input(\"Enter the humidity level (0 to 1): \"))\n",
        "cloud_cover = float(input(\"Enter the cloud cover level (0 to 1): \"))\n",
        "\n",
        "probability_of_rain = calculate_probability_of_rain(humidity, cloud_cover)\n",
        "print(f\"The probability of rain given the evidence is: {probability_of_rain:.2f}\")\n",
        "\n",
        "\n",
        "humidity_levels = np.linspace(0, 1, 100)\n",
        "cloud_cover_levels = np.linspace(0, 1, 100)\n",
        "probabilities = [calculate_probability_of_rain(h, c) for h, c in zip(humidity_levels, cloud_cover_levels)]\n",
        "\n",
        "plt.plot(humidity_levels, probabilities, label='Probability of Rain')\n",
        "plt.xlabel('Humidity Level')\n",
        "plt.ylabel('Probability of Rain')\n",
        "plt.title('Probability of Rain vs Humidity Level')\n",
        "plt.legend()\n",
        "plt.show()\n"
      ],
      "metadata": {
        "colab": {
          "base_uri": "https://localhost:8080/",
          "height": 524
        },
        "id": "9sev829VUnrb",
        "outputId": "eef79e20-8764-4ece-8476-af8b66d594d8"
      },
      "execution_count": 33,
      "outputs": [
        {
          "output_type": "stream",
          "name": "stdout",
          "text": [
            "Enter the humidity level (0 to 1): 0.5\n",
            "Enter the cloud cover level (0 to 1): 1\n",
            "The probability of rain given the evidence is: 1.01\n"
          ]
        },
        {
          "output_type": "display_data",
          "data": {
            "text/plain": [
              "<Figure size 640x480 with 1 Axes>"
            ],
            "image/png": "[encoded data removed]"
          },
          "metadata": {}
        }
      ]
    }
  ]
}