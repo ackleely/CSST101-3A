{
  "nbformat": 4,
  "nbformat_minor": 0,
  "metadata": {
    "colab": {
      "provenance": []
    },
    "kernelspec": {
      "name": "python3",
      "display_name": "Python 3"
    },
    "language_info": {
      "name": "python"
    }
  },
  "cells": [
    {
      "cell_type": "markdown",
      "source": [
        "# **Machine Problem No.2: Implementing a Logic-Based Model in Python**\n",
        "\n",
        "***Objective:*** Implement propositional and predicate logic in Python to understand the fundamental\n",
        "operations of logic-based representation and its application in AI.\n",
        "Task Instructions:"
      ],
      "metadata": {
        "id": "Bwjh68S0RFam"
      }
    },
    {
      "cell_type": "markdown",
      "source": [
        "## **1. Propositional Logic Operations:**\n"
      ],
      "metadata": {
        "id": "kxiCtSJKRS_2"
      }
    },
    {
      "cell_type": "markdown",
      "source": [
        "**The propositional logic operations are defined as follows:**"
      ],
      "metadata": {
        "id": "4dHHKwNQMtCv"
      }
    },
    {
      "cell_type": "code",
      "source": [
        "def and_operation(p, q):\n",
        "    return p and q #Logical conjunction (AND)\n",
        "\n",
        "def or_operation(p, q):\n",
        "    return p or q #Logical disjunction (OR)\n",
        "\n",
        "def not_operation(p):\n",
        "    return not p #Logical negation (NOT)\n",
        "\n",
        "def implies_operation(p, q):\n",
        "    return (not p) or q #Logical implication (IMPLIES)"
      ],
      "metadata": {
        "id": "I64m3g8LRqSe"
      },
      "execution_count": null,
      "outputs": []
    },
    {
      "cell_type": "markdown",
      "source": [
        "- **Conjunction**: The *and_operation* returns True if both p and q are True, otherwise it returns False.\n",
        "- **Disjunction**: The *or_operation* returns True if either p or q is True, or both are True.\n",
        "- **Negation**: The *not_operation* returns the opposite of the input, i.e., True if p is False, and False if p is True.\n",
        "- **Implication**: The *implies_operation* returns False only when p is True and q is False, otherwise it returns True."
      ],
      "metadata": {
        "id": "rQtPL71hMu23"
      }
    },
    {
      "cell_type": "markdown",
      "source": [
        "## **2. Evaluate Logical Statements:**"
      ],
      "metadata": {
        "id": "eMqhfoPtRuV2"
      }
    },
    {
      "cell_type": "markdown",
      "source": [
        "**Here's how we can evaluate the logical statements using the defined operations:**"
      ],
      "metadata": {
        "id": "RQi9-6ALNr7H"
      }
    },
    {
      "cell_type": "code",
      "source": [
        "print(and_operation(True, False)) # Output: False\n",
        "print(or_operation(True, False))  # Output: True\n",
        "print(not_operation(True))        # Output: False\n",
        "print(implies_operation(True, False)) # Output: False"
      ],
      "metadata": {
        "colab": {
          "base_uri": "https://localhost:8080/"
        },
        "id": "pQiW2nopT1W2",
        "outputId": "85ce9504-fbef-435c-d41a-e9eff3df883f"
      },
      "execution_count": null,
      "outputs": [
        {
          "output_type": "stream",
          "name": "stdout",
          "text": [
            "False\n",
            "True\n",
            "False\n",
            "False\n"
          ]
        }
      ]
    },
    {
      "cell_type": "markdown",
      "source": [
        "**The output shows the results of the logical operations for the given inputs.**"
      ],
      "metadata": {
        "id": "rTBf0kqoOELY"
      }
    },
    {
      "cell_type": "markdown",
      "source": [
        "## **3. Extend to Predicate Logic:**"
      ],
      "metadata": {
        "id": "PVXTVxtAR0ye"
      }
    },
    {
      "cell_type": "markdown",
      "source": [
        "**To extend the logic operations to predicate logic, we can define a function evaluate that takes a logical statement and a dictionary of variable-value pairs:**"
      ],
      "metadata": {
        "id": "yfK1IPqzOb9_"
      }
    },
    {
      "cell_type": "code",
      "source": [
        "def evaluate(statement, values):\n",
        "    # Replace logical operators with Python equivalents\n",
        "    statement = statement.replace('and', ' and ').replace('or', ' or ').replace('not', ' not ').replace('=>', ' or not ')\n",
        "    # Substitute variables with their truth values\n",
        "    for var, val in values.items():\n",
        "        statement = statement.replace(var, str(val))\n",
        "    return eval(statement)"
      ],
      "metadata": {
        "id": "NsffZyviR152"
      },
      "execution_count": null,
      "outputs": []
    },
    {
      "cell_type": "code",
      "source": [
        "# Evaluating logical statements\n",
        "print(evaluate('A and B', {'A': True, 'B': False})) # Output: False\n",
        "print(evaluate('A or B', {'A': True, 'B': False})) # Output: True\n",
        "print(evaluate('not A', {'A': True})) # Output: False\n",
        "print(evaluate('A => B', {'A': True, 'B': False})) # Output: False"
      ],
      "metadata": {
        "colab": {
          "base_uri": "https://localhost:8080/"
        },
        "id": "FtO_yaGwR7OO",
        "outputId": "0e495cb2-9882-4fbe-b053-e36466ebced2"
      },
      "execution_count": null,
      "outputs": [
        {
          "output_type": "stream",
          "name": "stdout",
          "text": [
            "False\n",
            "True\n",
            "False\n",
            "True\n"
          ]
        }
      ]
    },
    {
      "cell_type": "markdown",
      "source": [
        "**The evaluate function replaces the logical operators with their Python equivalents, substitutes the variables with their corresponding truth values, and then evaluates the resulting expression using eval.**"
      ],
      "metadata": {
        "id": "am1D1m6_OeWP"
      }
    },
    {
      "cell_type": "markdown",
      "source": [
        "## **4. AI Agent Development:**"
      ],
      "metadata": {
        "id": "zpyIveE8R2QG"
      }
    },
    {
      "cell_type": "markdown",
      "source": [
        "**Here's an example of how to develop a simple AI agent using the logic operations:**"
      ],
      "metadata": {
        "id": "0gL7qeuFOuvv"
      }
    },
    {
      "cell_type": "code",
      "source": [
        "def forall(predicate, domain):\n",
        "#Evaluate the universal quantifier (FOR ALL).\n",
        "    return all(predicate(x) for x in domain)\n",
        "\n",
        "#Evaluate the existential quantifier (EXISTS).\n",
        "def exists(predicate, domain):\n",
        "    return any(predicate(x) for x in domain)"
      ],
      "metadata": {
        "id": "aVJ5Db8XUtzY"
      },
      "execution_count": null,
      "outputs": []
    },
    {
      "cell_type": "code",
      "source": [
        "# Define a predicate and a domain\n",
        "predicate = lambda x: x > 0\n",
        "domain = [1, 2, 3, -1, -2]\n",
        "\n",
        "# Evaluate quantifiers\n",
        "print(forall(predicate, domain))\n",
        "print(exists(predicate, domain))"
      ],
      "metadata": {
        "colab": {
          "base_uri": "https://localhost:8080/"
        },
        "id": "tb6-XsvqUzv1",
        "outputId": "c90247b5-c45e-44e0-c7de-4a6c100913dd"
      },
      "execution_count": null,
      "outputs": [
        {
          "output_type": "stream",
          "name": "stdout",
          "text": [
            "False\n",
            "True\n"
          ]
        }
      ]
    },
    {
      "cell_type": "code",
      "source": [
        "class SimpleAIAgent:\n",
        "    def __init__(self):\n",
        "        self.condition = True\n",
        "\n",
        "#Make a decision based on logical conditions.\n",
        "    def make_decision(self):\n",
        "        if and_operation(self.condition, True):\n",
        "            return 'Take action A'\n",
        "        else:\n",
        "            return 'Take action B'\n",
        "\n",
        "# Create an instance of the AI agent\n",
        "agent = SimpleAIAgent()\n",
        "print(agent.make_decision())"
      ],
      "metadata": {
        "colab": {
          "base_uri": "https://localhost:8080/"
        },
        "id": "nsUVCEVAU6Ak",
        "outputId": "6f4775de-8333-4156-afbe-ec8cac942bed"
      },
      "execution_count": null,
      "outputs": [
        {
          "output_type": "stream",
          "name": "stdout",
          "text": [
            "Take action A\n"
          ]
        }
      ]
    },
    {
      "cell_type": "markdown",
      "source": [
        "- **The forall function evaluates the universal quantifier (FOR ALL) by checking if the given predicate is True for all elements in the domain using all. The exists function evaluates the existential quantifier (EXISTS) by checking if the predicate is True for at least one element in the domain using any.**\n",
        "- **The SimpleAIAgent class has a condition attribute that represents the logical condition for making a decision. The make_decision method checks if the condition is True and True using the and_operation. If the condition is satisfied, it returns 'Take action A', otherwise it returns 'Take action B'.**\n",
        "- **By creating an instance of the SimpleAIAgent class and calling its make_decision method, we can see the decision made by the AI agent based on the specified logical condition.**"
      ],
      "metadata": {
        "id": "TAvEEEcTO09Y"
      }
    }
  ]
}