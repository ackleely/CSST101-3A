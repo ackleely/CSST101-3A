{
  "nbformat": 4,
  "nbformat_minor": 0,
  "metadata": {
    "colab": {
      "provenance": [],
      "authorship_tag": "ABX9TyPnA8YWoNd3jz3FL9F7rji2"
    },
    "kernelspec": {
      "name": "python3",
      "display_name": "Python 3"
    },
    "language_info": {
      "name": "python"
    }
  },
  "cells": [
    {
      "cell_type": "markdown",
      "source": [
        "# **Exercise 1: Propositional Logic in Python**"
      ],
      "metadata": {
        "id": "TQOqdnmHENKZ"
      }
    },
    {
      "cell_type": "markdown",
      "source": [
        "***Objective:*** Students will learn how to represent simple facts and rules using propositional logic, and implement them in Python."
      ],
      "metadata": {
        "id": "hL2PQ0oeEVTp"
      }
    },
    {
      "cell_type": "markdown",
      "source": [
        "**Instructions:**\n",
        "\n",
        "- Write Python code to evaluate the logical conditions.\n",
        "- Use basic Boolean expressions to check if the match lights based on the given\n",
        "conditions."
      ],
      "metadata": {
        "id": "0AOem1u-bTlQ"
      }
    },
    {
      "cell_type": "code",
      "execution_count": null,
      "metadata": {
        "colab": {
          "base_uri": "https://localhost:8080/"
        },
        "id": "AqLEEgJjD18J",
        "outputId": "90efeffc-8a89-4549-b7ee-66c3efa699c3"
      },
      "outputs": [
        {
          "output_type": "stream",
          "name": "stdout",
          "text": [
            "The match will not light.\n"
          ]
        }
      ],
      "source": [
        "# Define the conditions\n",
        "rains = True\n",
        "wet = rains\n",
        "lights = not wet\n",
        "\n",
        "# Determine if the match will light\n",
        "if lights:\n",
        "    print(\"The match will light.\")\n",
        "else:\n",
        "    print(\"The match will not light.\")"
      ]
    },
    {
      "cell_type": "markdown",
      "source": [
        "# **Exercise 2: Predicate Logic Representation**"
      ],
      "metadata": {
        "id": "oJTYAHTwEj_g"
      }
    },
    {
      "cell_type": "markdown",
      "source": [
        "***Objective:***\n",
        "Students will apply predicate logic to represent relationships between objects and\n",
        "implement them in Python."
      ],
      "metadata": {
        "id": "sGctnhMTEnXo"
      }
    },
    {
      "cell_type": "markdown",
      "source": [
        "Instructions:\n",
        "\n",
        "- Define a predicate for humans (isHuman).\n",
        "- Use another predicate for mortals (isMortal).\n",
        "- Write Python code to infer if Socrates is mortal based on these predicates."
      ],
      "metadata": {
        "id": "gZkGWATycGko"
      }
    },
    {
      "cell_type": "code",
      "source": [
        "def isHuman(name):\n",
        "    return name == \"Socrates\"\n",
        "\n",
        "def isMortal(name):\n",
        "    return isHuman(name)\n",
        "\n",
        "# Check if Socrates is mortal\n",
        "if isMortal(\"Socrates\"):\n",
        "    print(\"Socrates is mortal.\")"
      ],
      "metadata": {
        "colab": {
          "base_uri": "https://localhost:8080/"
        },
        "id": "AxZEQ-dIEt-B",
        "outputId": "168f2329-2de2-4696-fac1-79aafd8d7af9"
      },
      "execution_count": null,
      "outputs": [
        {
          "output_type": "stream",
          "name": "stdout",
          "text": [
            "Socrates is mortal.\n"
          ]
        }
      ]
    },
    {
      "cell_type": "markdown",
      "source": [
        "# **Exercise 3: Inference Techniques in Logic-Based Systems**\n"
      ],
      "metadata": {
        "id": "ppLT-s_XEyxg"
      }
    },
    {
      "cell_type": "markdown",
      "source": [
        "***Objective:***\n",
        "Students will develop an inference system to derive conclusions from premises using\n",
        "Python."
      ],
      "metadata": {
        "id": "JpASOU_XE7eB"
      }
    },
    {
      "cell_type": "markdown",
      "source": [
        "Instructions:\n",
        "\n",
        "- Implement a system to input multiple rules and facts.\n",
        "- Write a function that applies Modus Ponens to infer new facts.\n",
        "- Test your script by providing different rules and facts."
      ],
      "metadata": {
        "id": "d6m5sl01cUEI"
      }
    },
    {
      "cell_type": "code",
      "source": [
        "def modus_ponens(rule, fact):\n",
        "    if rule[0] == fact:\n",
        "        return rule[1]\n",
        "    return None\n",
        "\n",
        "# Example usage\n",
        "rule = (\"X\", \"Y\")  # If X then Y\n",
        "fact = \"X\"  # X is true\n",
        "conclusion = modus_ponens(rule, fact)\n",
        "\n",
        "if conclusion:\n",
        "    print(f\"The conclusion is: {conclusion}\")"
      ],
      "metadata": {
        "colab": {
          "base_uri": "https://localhost:8080/"
        },
        "id": "CpH2jpEHFCMQ",
        "outputId": "8346df2c-c881-458d-d367-dc48d9a13e3f"
      },
      "execution_count": null,
      "outputs": [
        {
          "output_type": "stream",
          "name": "stdout",
          "text": [
            "The conclusion is: Y\n"
          ]
        }
      ]
    },
    {
      "cell_type": "markdown",
      "source": [
        "# **Exercise 4: Hands-on Lab - Implementing a Logic-Based Model in Python**"
      ],
      "metadata": {
        "id": "KgxkuQdLFI7h"
      }
    },
    {
      "cell_type": "markdown",
      "source": [
        "***Objective:***\n",
        "Students will implement a logic-based system in Python that performs simple reasoning using propositional or predicate logic."
      ],
      "metadata": {
        "id": "WLqZe0xhFMNo"
      }
    },
    {
      "cell_type": "markdown",
      "source": [
        "Instructions:\n",
        "\n",
        "- Define the rules as logical conditions.\n",
        "- Implement a reasoning system that updates John's hunger status based on the rules.\n",
        "- Use conditionals and loops in Python to simulate the reasoning process."
      ],
      "metadata": {
        "id": "lPHHTpnKcnLo"
      }
    },
    {
      "cell_type": "code",
      "source": [
        "hungry = True\n",
        "\n",
        "if hungry:\n",
        "    print(\"John will eat.\")\n",
        "    hungry = False\n",
        "\n",
        "if not hungry:\n",
        "    print(\"John is no longer hungry.\")"
      ],
      "metadata": {
        "colab": {
          "base_uri": "https://localhost:8080/"
        },
        "id": "z9q80j2hFQMo",
        "outputId": "54a63b15-7259-48e4-9df4-a759e03e4241"
      },
      "execution_count": null,
      "outputs": [
        {
          "output_type": "stream",
          "name": "stdout",
          "text": [
            "John will eat.\n",
            "John is no longer hungry.\n"
          ]
        }
      ]
    },
    {
      "cell_type": "markdown",
      "source": [
        "# **Case Study Discussion**"
      ],
      "metadata": {
        "id": "bKyT2FNTFrWB"
      }
    },
    {
      "cell_type": "markdown",
      "source": [
        "## **Case Study Discussion: Logic-Based Models in AI Systems**"
      ],
      "metadata": {
        "id": "7kdqNSXzGEMQ"
      }
    },
    {
      "cell_type": "markdown",
      "source": [
        "###**1. AI System Using Logic-Based Reasoning: Expert Systems**\n",
        "\n",
        "Expert systems are a prominent example of AI systems that utilize logic-based reasoning to assist in decision-making processes. These systems are designed to emulate the decision-making abilities of human experts in specific domains, such as medical diagnosis, financial analysis, and technical support. They consist of a knowledge base, which contains domain-specific information, and an inference engine that applies logical rules to derive conclusions from the knowledge base.\n",
        "\n",
        "### **2. Application of Propositional and Predicate Logic**\n",
        "\n",
        "**Propositional Logic:**\n",
        "\n",
        "Expert systems often employ propositional logic to represent facts and rules in a structured manner. For instance, a medical diagnosis expert system might use rules like:\n",
        "\n",
        "- If a patient has a fever (F) and a cough (C), then they may have the flu (FL):\n",
        "$$ (F \\land C) \\rightarrow FL $$\n",
        "This representation allows the system to deduce potential diagnoses based on the symptoms presented by the patient.\n",
        "\n",
        "**Predicate Logic:**\n",
        "\n",
        "Predicate logic extends propositional logic by allowing for more complex statements involving quantifiers and variables. For example, an expert system might represent knowledge about patients as follows:\n",
        "\n",
        "- For all patients (P), if they have a certain symptom (S), then they may require a specific treatment (T):\n",
        "$$ \\forall P (S(P) \\rightarrow T(P)) $$\n",
        "\n",
        "This enables the system to make inferences about individual patients based on general rules, enhancing its reasoning capabilities.\n",
        "\n",
        "### **3. Advantages and Challenges of Logic-Based Models**\n",
        "\n",
        "**Advantages:**\n",
        "\n",
        "- **Consistency and Dependability:** Models based on logic ensure consistent decision-making processes by relying on well-defined rules, guaranteeing that the same input will produce the same output. This is especially important in fields like healthcare where decisions can have a significant impact on outcomes.\n",
        "\n",
        "- **Representation of Knowledge:** These systems can capture extensive expert knowledge in a structured format, making it accessible even in the absence of human experts. This is particularly advantageous in situations where expert availability is limited.\n",
        "\n",
        "- **Efficient Decision-Making:** Expert systems can analyze information and reach conclusions more quickly than human experts, leading to improved response times in critical situations, such as medical emergencies.\n",
        "\n",
        "**Challenges:**\n",
        "\n",
        "- Common sense reasoning is often lacking in logic-based systems, causing them to struggle in scenarios requiring intuitive judgment. These systems rely solely on the rules encoded in their knowledge bases, which can lead to incorrect conclusions in ambiguous situations.\n",
        "- Maintaining and updating the knowledge base poses a significant challenge as new information becomes available. Expert systems require regular updates to their rules and facts, which can be resource-intensive.\n",
        "- Expert systems are typically designed for specific domains and may not perform well outside their area of expertise. This limits their applicability in broader contexts where interdisciplinary knowledge is required.\n",
        "- The accuracy of an expert system's output heavily depends on the quality and completeness of the data it receives. Inaccurate or incomplete data can lead to erroneous conclusions.\n",
        "\n",
        "To sum up, although expert systems and other logic-based models have clear benefits in handling structured decision-making and representing knowledge, they encounter difficulties in areas such as adaptability, common-sense reasoning, and reliance on data. As AI advances, it will be crucial to tackle these challenges in order to improve the efficiency and usefulness of logic-based systems in practical situations."
      ],
      "metadata": {
        "id": "phXaeKMZF4eh"
      }
    },
    {
      "cell_type": "markdown",
      "source": [
        "References\n",
        "- https://plato.stanford.edu/entries/logic-ai/\n",
        "- https://todok.io/overcoming-challenges-in-ai-chatbot-implementation-lessons-learned/\n",
        "- https://www.contactfusion.co.uk/the-challenges-of-using-ai-chatbots-problems-and-solutions-explored/\n",
        "- https://www.toolify.ai/ai-news/exploring-the-advantages-and-disadvantages-of-expert-systems-2191252\n",
        "- https://www.javatpoint.com/advantages-and-disadvantages-of-expert-system\n",
        "- https://www.almabetter.com/bytes/tutorials/artificial-intelligence/propositional-logic-in-ai\n",
        "- https://github.com/artainmo/expert-system\n",
        "- https://tecnosoluciones.com/business-expert-systems-with-chatbots-what-are-they-and-how-can-they-improve-your-company-or-institution/?lang=en"
      ],
      "metadata": {
        "id": "z7GEI4zpH6L1"
      }
    },
    {
      "cell_type": "markdown",
      "source": [
        "# **Assignment: Implement a Logic-Based Model in Python**"
      ],
      "metadata": {
        "id": "zL96g43ZMSCF"
      }
    },
    {
      "cell_type": "markdown",
      "source": [
        "**Objective:**\n",
        "Develop a more complex logic-based system in Python to model real-world scenarios."
      ],
      "metadata": {
        "id": "Y1QsyyVmMiEp"
      }
    },
    {
      "cell_type": "markdown",
      "source": [
        "Instructions:\n",
        "\n",
        "- Identify the problem and define the logic rules.\n",
        "- Implement a system that can process input and infer conclusions using logic.\n",
        "- Submit the Python script as a part of your assignment."
      ],
      "metadata": {
        "id": "KNlQqb87c0og"
      }
    },
    {
      "cell_type": "markdown",
      "source": [
        "## **2. Simple Voting System**\n",
        "\n",
        "**Logic Rules**:\n",
        "1. A voter must be registered to vote.\n",
        "2. A voter must be at least 18 years old.\n",
        "3. A voter must be a citizen.\n",
        "4. A voter must not have voted in the last election (to prevent double voting).\n",
        "**Python Code**:"
      ],
      "metadata": {
        "id": "pj_RzlEGMsRh"
      }
    },
    {
      "cell_type": "code",
      "source": [
        "class Voter:\n",
        "    def __init__(self, registered, age, citizen, voted_last_election):\n",
        "        self.registered = registered\n",
        "        self.age = age\n",
        "        self.citizen = citizen\n",
        "        self.voted_last_election = voted_last_election\n",
        "\n",
        "    def can_vote(self):\n",
        "        return (self.registered and\n",
        "                self.age >= 18 and\n",
        "                self.citizen and\n",
        "                not self.voted_last_election)\n",
        "\n",
        "    def eligibility_status(self):\n",
        "        if not self.registered:\n",
        "            return \"Not registered to vote.\"\n",
        "        elif self.age < 18:\n",
        "            return \"Not old enough to vote.\"\n",
        "        elif not self.citizen:\n",
        "            return \"Not a citizen.\"\n",
        "        elif self.voted_last_election:\n",
        "            return \"Already voted in the last election.\"\n",
        "        else:\n",
        "            return \"Eligible to vote.\"\n",
        "\n",
        "def main():\n",
        "    registered = input(\"Is the voter registered? (yes/no): \").strip().lower() == 'yes'\n",
        "    age = int(input(\"Enter the voter's age: \"))\n",
        "    citizen = input(\"Is the voter a citizen? (yes/no): \").strip().lower() == 'yes'\n",
        "    voted_last_election = input(\"Did the voter vote in the last election? (yes/no): \").strip().lower() == 'yes'\n",
        "\n",
        "    voter = Voter(registered, age, citizen, voted_last_election)\n",
        "\n",
        "    print(\"Can the voter vote?\", voter.can_vote())  # Output: True or False\n",
        "    print(\"Eligibility Status:\", voter.eligibility_status())  # Output: Reason for eligibility\n",
        "\n",
        "if __name__ == \"__main__\":\n",
        "    main()"
      ],
      "metadata": {
        "colab": {
          "base_uri": "https://localhost:8080/"
        },
        "id": "izzHVNfIM7Eo",
        "outputId": "d3f55776-45c2-4482-ef62-370d6de7485a"
      },
      "execution_count": null,
      "outputs": [
        {
          "output_type": "stream",
          "name": "stdout",
          "text": [
            "Is the voter registered? (yes/no): yes\n",
            "Enter the voter's age: 18\n",
            "Is the voter a citizen? (yes/no): yes\n",
            "Did the voter vote in the last election? (yes/no): yes\n",
            "Can the voter vote? False\n",
            "Eligibility Status: Already voted in the last election.\n"
          ]
        }
      ]
    },
    {
      "cell_type": "markdown",
      "source": [
        "## **Explanation of the Code**\n",
        "\n",
        "1. **Class Definition**:\n",
        "    - The **`Voter`** class has been enhanced with additional attributes: **`age`**, **`citizen`**, and **`voted_last_election`**.\n",
        "    - The **`can_vote`** method checks all the criteria for voting eligibility.\n",
        "    - The **`eligibility_status`** method provides specific feedback on why a voter may not be eligible.\n",
        "2. **User Input**:\n",
        "    - The **`main`** function prompts the user for input regarding the voter's registration status, age, citizenship, and voting history.\n",
        "    - It converts the input into appropriate boolean values for processing.\n",
        "3. **Output**:\n",
        "    - The program checks if the voter can vote and prints the eligibility status, providing clear feedback based on the input.\n",
        "\n",
        "## **Conclusion**\n",
        "\n",
        "This Python script effectively models a voting eligibility system using logic-based rules. It allows for user input to determine if a voter is eligible to vote and provides detailed feedback on their status. This approach can be further expanded to include more complex scenarios and additional logic rules as needed."
      ],
      "metadata": {
        "id": "7ai-QqzTNhBR"
      }
    }
  ]
}